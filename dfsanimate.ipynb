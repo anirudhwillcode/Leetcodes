{
 "cells": [
  {
   "cell_type": "code",
   "execution_count": null,
   "metadata": {},
   "outputs": [],
   "source": [
    "import matplotlib.pyplot as plt\n",
    "import networkx as nx\n",
    "from matplotlib.animation import FuncAnimation\n",
    "\n",
    "def dfs_animation(graph, start):\n",
    "    visited = set()\n",
    "    stack = [start]\n",
    "    \n",
    "    fig, ax = plt.subplots()\n",
    "    \n",
    "    def update(frame):\n",
    "        ax.clear()\n",
    "        node_colors = ['gray' if node not in visited else 'green' for node in graph.nodes()]\n",
    "        nx.draw(graph, with_labels=True, node_color=node_colors, ax=ax)\n",
    "        if stack:\n",
    "            current_node = stack.pop()\n",
    "            visited.add(current_node)\n",
    "            for neighbor in graph.neighbors(current_node):\n",
    "                if neighbor not in visited:\n",
    "                    stack.append(neighbor)\n",
    "    \n",
    "    ani = FuncAnimation(fig, update, frames=len(graph.nodes()), interval=1000)\n",
    "    plt.show()\n",
    "\n",
    "# Example usage:\n",
    "graph = nx.Graph()\n",
    "graph.add_edges_from([('A', 'B'), ('A', 'C'), ('B', 'D'), ('B', 'E'), ('C', 'F'), ('E', 'F')])\n",
    "\n",
    "dfs_animation(graph, 'A')\n"
   ]
  },
  {
   "cell_type": "code",
   "execution_count": 1,
   "metadata": {},
   "outputs": [
    {
     "ename": "SyntaxError",
     "evalue": "invalid syntax (4176982235.py, line 1)",
     "output_type": "error",
     "traceback": [
      "\u001b[1;36m  Cell \u001b[1;32mIn[1], line 1\u001b[1;36m\u001b[0m\n\u001b[1;33m    pip install matplotlib networkx\u001b[0m\n\u001b[1;37m        ^\u001b[0m\n\u001b[1;31mSyntaxError\u001b[0m\u001b[1;31m:\u001b[0m invalid syntax\n"
     ]
    }
   ],
   "source": [
    "pip install matplotlib networkx\n",
    "\n"
   ]
  }
 ],
 "metadata": {
  "kernelspec": {
   "display_name": "Python 3",
   "language": "python",
   "name": "python3"
  },
  "language_info": {
   "codemirror_mode": {
    "name": "ipython",
    "version": 3
   },
   "file_extension": ".py",
   "mimetype": "text/x-python",
   "name": "python",
   "nbconvert_exporter": "python",
   "pygments_lexer": "ipython3",
   "version": "3.12.3"
  }
 },
 "nbformat": 4,
 "nbformat_minor": 2
}
